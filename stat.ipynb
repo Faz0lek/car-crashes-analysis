{
 "metadata": {
  "language_info": {
   "codemirror_mode": {
    "name": "ipython",
    "version": 3
   },
   "file_extension": ".py",
   "mimetype": "text/x-python",
   "name": "python",
   "nbconvert_exporter": "python",
   "pygments_lexer": "ipython3",
   "version": "3.9.0-final"
  },
  "orig_nbformat": 2,
  "kernelspec": {
   "name": "python3",
   "display_name": "Python 3.9.0 64-bit",
   "metadata": {
    "interpreter": {
     "hash": "63fd5069d213b44bf678585dea6b12cceca9941eaf7f819626cde1f2670de90d"
    }
   }
  }
 },
 "nbformat": 4,
 "nbformat_minor": 2,
 "cells": [
  {
   "source": [
    "# IZV projekt část 3.2\n",
    "\n",
    "Autor: Martin Kostelník (xkoste12)\n",
    "\n",
    "Datum: 15.1.2021"
   ],
   "cell_type": "markdown",
   "metadata": {}
  },
  {
   "source": [
    " V tomto notebooku se snažíme s 95% jistotou ověřit následující hypotézu s pomocí $\\chi^2$ testu:\n",
    " \n",
    "**Pokud byl viník nehody pod silným vlivem alkoholu, došlo častěji k těžkým zdravotním následkům.**\n"
   ],
   "cell_type": "markdown",
   "metadata": {}
  },
  {
   "cell_type": "code",
   "execution_count": null,
   "metadata": {},
   "outputs": [],
   "source": [
    "import pandas as pd\n",
    "import scipy.stats as st"
   ]
  },
  {
   "source": [
    "1. Načteme datový soubor `accidents.pkl.gz`.\n",
    "2. Vyloučíme nehody způsobené pod vlivem drog\n",
    "3. Přidáme do dataframe sloupec `drunk` obsahující binární hodnotu označující opilost řidiče.\n",
    "4. Přidáme do dataframe sloupec `injuries` obsahující binární hodnotu označující zdravotní následky obětí nehody."
   ],
   "cell_type": "markdown",
   "metadata": {}
  },
  {
   "cell_type": "code",
   "execution_count": null,
   "metadata": {},
   "outputs": [],
   "source": [
    "df = pd.read_pickle(\"accidents.pkl.gz\")\n",
    "df = df[(df.p11 != 4) & (df.p11 != 5)]\n",
    "df[\"drunk\"] = (df[\"p11\"] >= 7)\n",
    "df[\"injuries\"] = (df[\"p13a\"] + df[\"p13b\"] > 0)\n",
    "df[[\"drunk\", \"injuries\"]]"
   ]
  },
  {
   "source": [
    "Ze sloupců `drunk` a `injuries` vytvoříme kontingenční tabulku."
   ],
   "cell_type": "markdown",
   "metadata": {}
  },
  {
   "cell_type": "code",
   "execution_count": null,
   "metadata": {},
   "outputs": [],
   "source": [
    "ct = pd.crosstab(df[\"drunk\"], df[\"injuries\"])\n",
    "ct"
   ]
  },
  {
   "source": [
    "Provedeme $\\chi^2$ test za pomoci vestavěné funkce knihovny `scipy` `chi2_contingency()`"
   ],
   "cell_type": "markdown",
   "metadata": {}
  },
  {
   "cell_type": "code",
   "execution_count": null,
   "metadata": {},
   "outputs": [],
   "source": [
    "result = st.chi2_contingency(ct)\n",
    "result[1]"
   ]
  },
  {
   "source": [
    "## Závěr\n",
    "\n",
    "Hodnota $2.09715\\cdot10^{-123}$ je mnohem menší než hodnota $0.05$. Můžeme tedy prohlásit, že existuje korelace mezi množstvím alkoholu v krvi viníka nehody a počtem nehod s vážnými zdravotními následky obětí."
   ],
   "cell_type": "markdown",
   "metadata": {}
  }
 ]
}